{
 "cells": [
  {
   "cell_type": "markdown",
   "metadata": {},
   "source": [
    "# VacationPy\n",
    "----\n",
    "\n",
    "#### Note\n",
    "* Keep an eye on your API usage. Use https://developers.google.com/maps/reporting/gmp-reporting as reference for how to monitor your usage and billing.\n",
    "\n",
    "* Instructions have been included for each segment. You do not have to follow them exactly, but they are included to help you think through the steps."
   ]
  },
  {
   "cell_type": "code",
   "execution_count": 1,
   "metadata": {},
   "outputs": [],
   "source": [
    "# Dependencies and Setup\n",
    "import pandas as pd\n",
    "import numpy as np\n",
    "import requests\n",
    "import gmaps\n",
    "import json\n",
    "\n",
    "# Import API key\n",
    "from api_keys import g_key"
   ]
  },
  {
   "cell_type": "markdown",
   "metadata": {},
   "source": [
    "### Store Part I results into DataFrame\n",
    "* Load the csv exported in Part I to a DataFrame"
   ]
  },
  {
   "cell_type": "code",
   "execution_count": 2,
   "metadata": {
    "scrolled": true
   },
   "outputs": [
    {
     "data": {
      "text/html": [
       "<div>\n",
       "<style scoped>\n",
       "    .dataframe tbody tr th:only-of-type {\n",
       "        vertical-align: middle;\n",
       "    }\n",
       "\n",
       "    .dataframe tbody tr th {\n",
       "        vertical-align: top;\n",
       "    }\n",
       "\n",
       "    .dataframe thead th {\n",
       "        text-align: right;\n",
       "    }\n",
       "</style>\n",
       "<table border=\"1\" class=\"dataframe\">\n",
       "  <thead>\n",
       "    <tr style=\"text-align: right;\">\n",
       "      <th></th>\n",
       "      <th>City</th>\n",
       "      <th>Lat</th>\n",
       "      <th>Lng</th>\n",
       "      <th>Max Temp</th>\n",
       "      <th>Humidity</th>\n",
       "      <th>Cloudiness</th>\n",
       "      <th>Wind Speed</th>\n",
       "      <th>Country</th>\n",
       "      <th>Date</th>\n",
       "    </tr>\n",
       "  </thead>\n",
       "  <tbody>\n",
       "    <tr>\n",
       "      <th>0</th>\n",
       "      <td>Narsaq</td>\n",
       "      <td>60.92</td>\n",
       "      <td>-46.05</td>\n",
       "      <td>30.20</td>\n",
       "      <td>54</td>\n",
       "      <td>75</td>\n",
       "      <td>2.24</td>\n",
       "      <td>GL</td>\n",
       "      <td>1601464402</td>\n",
       "    </tr>\n",
       "    <tr>\n",
       "      <th>1</th>\n",
       "      <td>Manta</td>\n",
       "      <td>-0.95</td>\n",
       "      <td>-80.73</td>\n",
       "      <td>69.30</td>\n",
       "      <td>85</td>\n",
       "      <td>99</td>\n",
       "      <td>7.38</td>\n",
       "      <td>EC</td>\n",
       "      <td>1601464402</td>\n",
       "    </tr>\n",
       "    <tr>\n",
       "      <th>2</th>\n",
       "      <td>Longyearbyen</td>\n",
       "      <td>78.22</td>\n",
       "      <td>15.64</td>\n",
       "      <td>39.20</td>\n",
       "      <td>80</td>\n",
       "      <td>75</td>\n",
       "      <td>14.99</td>\n",
       "      <td>SJ</td>\n",
       "      <td>1601464402</td>\n",
       "    </tr>\n",
       "    <tr>\n",
       "      <th>3</th>\n",
       "      <td>Butaritari</td>\n",
       "      <td>3.07</td>\n",
       "      <td>172.79</td>\n",
       "      <td>82.08</td>\n",
       "      <td>76</td>\n",
       "      <td>1</td>\n",
       "      <td>13.56</td>\n",
       "      <td>KI</td>\n",
       "      <td>1601464403</td>\n",
       "    </tr>\n",
       "    <tr>\n",
       "      <th>4</th>\n",
       "      <td>Vila Franca do Campo</td>\n",
       "      <td>37.72</td>\n",
       "      <td>-25.43</td>\n",
       "      <td>68.00</td>\n",
       "      <td>64</td>\n",
       "      <td>40</td>\n",
       "      <td>8.05</td>\n",
       "      <td>PT</td>\n",
       "      <td>1601464403</td>\n",
       "    </tr>\n",
       "  </tbody>\n",
       "</table>\n",
       "</div>"
      ],
      "text/plain": [
       "                   City    Lat     Lng  Max Temp  Humidity  Cloudiness  \\\n",
       "0                Narsaq  60.92  -46.05     30.20        54          75   \n",
       "1                 Manta  -0.95  -80.73     69.30        85          99   \n",
       "2          Longyearbyen  78.22   15.64     39.20        80          75   \n",
       "3            Butaritari   3.07  172.79     82.08        76           1   \n",
       "4  Vila Franca do Campo  37.72  -25.43     68.00        64          40   \n",
       "\n",
       "   Wind Speed Country        Date  \n",
       "0        2.24      GL  1601464402  \n",
       "1        7.38      EC  1601464402  \n",
       "2       14.99      SJ  1601464402  \n",
       "3       13.56      KI  1601464403  \n",
       "4        8.05      PT  1601464403  "
      ]
     },
     "execution_count": 2,
     "metadata": {},
     "output_type": "execute_result"
    }
   ],
   "source": [
    "# Read in the CSV file\n",
    "cities_df = pd.read_csv(\"../WeatherPy/output_data/cities.csv\", encoding=\"utf-8\")\n",
    "\n",
    "\n",
    "cities_df.head()"
   ]
  },
  {
   "cell_type": "markdown",
   "metadata": {},
   "source": [
    "### Humidity Heatmap\n",
    "* Configure gmaps.\n",
    "* Use the Lat and Lng as locations and Humidity as the weight.\n",
    "* Add Heatmap layer to map."
   ]
  },
  {
   "cell_type": "code",
   "execution_count": 3,
   "metadata": {},
   "outputs": [],
   "source": [
    "# Configure gmaps with API key\n",
    "gmaps.configure(api_key=g_key)"
   ]
  },
  {
   "cell_type": "code",
   "execution_count": 4,
   "metadata": {},
   "outputs": [],
   "source": [
    "# Store 'Lat' and 'Lng' into  locations \n",
    "locations = cities_df[[\"Lat\", \"Lng\"]]\n",
    "\n",
    "\n",
    "# Convert Humidity to float and store\n",
    "humidity = cities_df[\"Humidity\"].astype(float)"
   ]
  },
  {
   "cell_type": "code",
   "execution_count": 20,
   "metadata": {},
   "outputs": [
    {
     "data": {
      "application/vnd.jupyter.widget-view+json": {
       "model_id": "95f8f9f4eccc48c29f96f82f82e0ec6d",
       "version_major": 2,
       "version_minor": 0
      },
      "text/plain": [
       "Figure(layout=FigureLayout(height='420px'))"
      ]
     },
     "metadata": {},
     "output_type": "display_data"
    }
   ],
   "source": [
    "# Create a Heatmap layer - 100 intensity used as it is the max humidity\n",
    "fig = gmaps.figure(zoom_level=1.8, center=(20,10))\n",
    "\n",
    "heatmap_layer = gmaps.heatmap_layer(locations, weights=humidity, dissipating=False, max_intensity=100,point_radius=2)\n",
    "\n",
    "fig.add_layer(heatmap_layer)\n",
    "fig"
   ]
  },
  {
   "cell_type": "markdown",
   "metadata": {},
   "source": [
    "### Create new DataFrame fitting weather criteria\n",
    "* Narrow down the cities to fit weather conditions.\n",
    "* Drop any rows with null values."
   ]
  },
  {
   "cell_type": "code",
   "execution_count": 21,
   "metadata": {},
   "outputs": [
    {
     "data": {
      "text/html": [
       "<div>\n",
       "<style scoped>\n",
       "    .dataframe tbody tr th:only-of-type {\n",
       "        vertical-align: middle;\n",
       "    }\n",
       "\n",
       "    .dataframe tbody tr th {\n",
       "        vertical-align: top;\n",
       "    }\n",
       "\n",
       "    .dataframe thead th {\n",
       "        text-align: right;\n",
       "    }\n",
       "</style>\n",
       "<table border=\"1\" class=\"dataframe\">\n",
       "  <thead>\n",
       "    <tr style=\"text-align: right;\">\n",
       "      <th></th>\n",
       "      <th>City</th>\n",
       "      <th>Lat</th>\n",
       "      <th>Lng</th>\n",
       "      <th>Max Temp</th>\n",
       "      <th>Humidity</th>\n",
       "      <th>Cloudiness</th>\n",
       "      <th>Wind Speed</th>\n",
       "      <th>Country</th>\n",
       "      <th>Date</th>\n",
       "    </tr>\n",
       "  </thead>\n",
       "  <tbody>\n",
       "    <tr>\n",
       "      <th>287</th>\n",
       "      <td>Cabo San Lucas</td>\n",
       "      <td>22.89</td>\n",
       "      <td>-109.91</td>\n",
       "      <td>80.01</td>\n",
       "      <td>75</td>\n",
       "      <td>0</td>\n",
       "      <td>2.44</td>\n",
       "      <td>MX</td>\n",
       "      <td>1601464473</td>\n",
       "    </tr>\n",
       "    <tr>\n",
       "      <th>288</th>\n",
       "      <td>Dalbandin</td>\n",
       "      <td>28.89</td>\n",
       "      <td>64.41</td>\n",
       "      <td>85.96</td>\n",
       "      <td>14</td>\n",
       "      <td>0</td>\n",
       "      <td>0.51</td>\n",
       "      <td>PK</td>\n",
       "      <td>1601464281</td>\n",
       "    </tr>\n",
       "    <tr>\n",
       "      <th>447</th>\n",
       "      <td>Tabas</td>\n",
       "      <td>33.60</td>\n",
       "      <td>56.92</td>\n",
       "      <td>80.60</td>\n",
       "      <td>12</td>\n",
       "      <td>0</td>\n",
       "      <td>2.24</td>\n",
       "      <td>IR</td>\n",
       "      <td>1601464510</td>\n",
       "    </tr>\n",
       "  </tbody>\n",
       "</table>\n",
       "</div>"
      ],
      "text/plain": [
       "               City    Lat     Lng  Max Temp  Humidity  Cloudiness  \\\n",
       "287  Cabo San Lucas  22.89 -109.91     80.01        75           0   \n",
       "288       Dalbandin  28.89   64.41     85.96        14           0   \n",
       "447           Tabas  33.60   56.92     80.60        12           0   \n",
       "\n",
       "     Wind Speed Country        Date  \n",
       "287        2.44      MX  1601464473  \n",
       "288        0.51      PK  1601464281  \n",
       "447        2.24      IR  1601464510  "
      ]
     },
     "execution_count": 21,
     "metadata": {},
     "output_type": "execute_result"
    }
   ],
   "source": [
    "# Narrow down dataframe to fit weather conditions\n",
    "# I chose, max temp lower than 90F and greater than 80F, zero cloudiness, and wind speed less than 5mph  \n",
    "ideal_city_df = cities_df.loc[(cities_df[\"Max Temp\"] > 80) & (cities_df[\"Max Temp\"] < 90) & (cities_df[\"Cloudiness\"] == 0) & (cities_df[\"Wind Speed\"] < 5)]\n",
    "ideal_city_df = ideal_city_df.dropna()\n",
    "ideal_city_df.reset_index(drop=True)\n",
    "\n",
    "ideal_city_df.head()"
   ]
  },
  {
   "cell_type": "markdown",
   "metadata": {},
   "source": [
    "### Hotel Map\n",
    "* Store into variable named `hotel_df`.\n",
    "* Add a \"Hotel Name\" column to the DataFrame.\n",
    "* Set parameters to search for hotels with 5000 meters.\n",
    "* Hit the Google Places API for each city's coordinates.\n",
    "* Store the first Hotel result into the DataFrame.\n",
    "* Plot markers on top of the heatmap."
   ]
  },
  {
   "cell_type": "code",
   "execution_count": 22,
   "metadata": {},
   "outputs": [
    {
     "data": {
      "text/html": [
       "<div>\n",
       "<style scoped>\n",
       "    .dataframe tbody tr th:only-of-type {\n",
       "        vertical-align: middle;\n",
       "    }\n",
       "\n",
       "    .dataframe tbody tr th {\n",
       "        vertical-align: top;\n",
       "    }\n",
       "\n",
       "    .dataframe thead th {\n",
       "        text-align: right;\n",
       "    }\n",
       "</style>\n",
       "<table border=\"1\" class=\"dataframe\">\n",
       "  <thead>\n",
       "    <tr style=\"text-align: right;\">\n",
       "      <th></th>\n",
       "      <th>City</th>\n",
       "      <th>Lat</th>\n",
       "      <th>Lng</th>\n",
       "      <th>Max Temp</th>\n",
       "      <th>Humidity</th>\n",
       "      <th>Cloudiness</th>\n",
       "      <th>Wind Speed</th>\n",
       "      <th>Country</th>\n",
       "      <th>Date</th>\n",
       "      <th>Hotel Name</th>\n",
       "    </tr>\n",
       "  </thead>\n",
       "  <tbody>\n",
       "    <tr>\n",
       "      <th>287</th>\n",
       "      <td>Cabo San Lucas</td>\n",
       "      <td>22.89</td>\n",
       "      <td>-109.91</td>\n",
       "      <td>80.01</td>\n",
       "      <td>75</td>\n",
       "      <td>0</td>\n",
       "      <td>2.44</td>\n",
       "      <td>MX</td>\n",
       "      <td>1601464473</td>\n",
       "      <td>Welk Resorts Cabo San Lucas - Sirena del Mar</td>\n",
       "    </tr>\n",
       "    <tr>\n",
       "      <th>288</th>\n",
       "      <td>Dalbandin</td>\n",
       "      <td>28.89</td>\n",
       "      <td>64.41</td>\n",
       "      <td>85.96</td>\n",
       "      <td>14</td>\n",
       "      <td>0</td>\n",
       "      <td>0.51</td>\n",
       "      <td>PK</td>\n",
       "      <td>1601464281</td>\n",
       "      <td>Al-Dawood Hotel &amp; Restaurant</td>\n",
       "    </tr>\n",
       "    <tr>\n",
       "      <th>447</th>\n",
       "      <td>Tabas</td>\n",
       "      <td>33.60</td>\n",
       "      <td>56.92</td>\n",
       "      <td>80.60</td>\n",
       "      <td>12</td>\n",
       "      <td>0</td>\n",
       "      <td>2.24</td>\n",
       "      <td>IR</td>\n",
       "      <td>1601464510</td>\n",
       "      <td>Amir hotel</td>\n",
       "    </tr>\n",
       "  </tbody>\n",
       "</table>\n",
       "</div>"
      ],
      "text/plain": [
       "               City    Lat     Lng  Max Temp  Humidity  Cloudiness  \\\n",
       "287  Cabo San Lucas  22.89 -109.91     80.01        75           0   \n",
       "288       Dalbandin  28.89   64.41     85.96        14           0   \n",
       "447           Tabas  33.60   56.92     80.60        12           0   \n",
       "\n",
       "     Wind Speed Country        Date  \\\n",
       "287        2.44      MX  1601464473   \n",
       "288        0.51      PK  1601464281   \n",
       "447        2.24      IR  1601464510   \n",
       "\n",
       "                                       Hotel Name  \n",
       "287  Welk Resorts Cabo San Lucas - Sirena del Mar  \n",
       "288                  Al-Dawood Hotel & Restaurant  \n",
       "447                                    Amir hotel  "
      ]
     },
     "execution_count": 22,
     "metadata": {},
     "output_type": "execute_result"
    }
   ],
   "source": [
    "# Call my DataFrame hotel_df\n",
    "hotel_df = ideal_city_df\n",
    "\n",
    "# Add Hotel Name column to the DataFrame\n",
    "hotel_df[\"Hotel Name\"] = \"\"\n",
    "\n",
    "# Find the first hotel for each city within 5000 meters of the coordinates\n",
    "\n",
    "# params dictionary to update each iteration\n",
    "params = {\n",
    "    \"radius\": 5000,\n",
    "    \"types\": \"hotel\",\n",
    "    \"keyword\": \"hotel\",\n",
    "    \"key\": g_key\n",
    "}\n",
    "\n",
    "# Use the lat/lng we recovered to identify hotels\n",
    "for index, row in hotel_df.iterrows():\n",
    "    # get lat, lng from df\n",
    "    lat = row[\"Lat\"]\n",
    "    lng = row[\"Lng\"]\n",
    "\n",
    "    # change location each iteration while leaving original params in place\n",
    "    params[\"location\"] = f\"{lat},{lng}\"\n",
    "\n",
    "    # Base url for get request\n",
    "    base_url = \"https://maps.googleapis.com/maps/api/place/nearbysearch/json\"\n",
    "\n",
    "    # make request\n",
    "    hotel_name = requests.get(base_url, params=params)\n",
    "    \n",
    "\n",
    "    # convert to json\n",
    "    hotel_name = hotel_name.json()\n",
    "\n",
    "    # Since some data may be missing we incorporate a try-except to skip any that are missing a data point.\n",
    "    try:\n",
    "        hotel_df.loc[index, \"Hotel Name\"] = hotel_name[\"results\"][0][\"name\"]\n",
    "    except (KeyError, IndexError):\n",
    "        print(\"Missing field/result... skipping.\")\n",
    "\n",
    "hotel_df    "
   ]
  },
  {
   "cell_type": "code",
   "execution_count": 23,
   "metadata": {},
   "outputs": [],
   "source": [
    "# NOTE: Do not change any of the code in this cell\n",
    "\n",
    "# Using the template add the hotel marks to the heatmap\n",
    "info_box_template = \"\"\"\n",
    "<dl>\n",
    "<dt>Name</dt><dd>{Hotel Name}</dd>\n",
    "<dt>City</dt><dd>{City}</dd>\n",
    "<dt>Country</dt><dd>{Country}</dd>\n",
    "</dl>\n",
    "\"\"\"\n",
    "# Store the DataFrame Row\n",
    "# NOTE: be sure to update with your DataFrame name\n",
    "hotel_info = [info_box_template.format(**row) for index, row in hotel_df.iterrows()]\n",
    "locations = hotel_df[[\"Lat\", \"Lng\"]]"
   ]
  },
  {
   "cell_type": "code",
   "execution_count": 26,
   "metadata": {},
   "outputs": [
    {
     "data": {
      "application/vnd.jupyter.widget-view+json": {
       "model_id": "95f8f9f4eccc48c29f96f82f82e0ec6d",
       "version_major": 2,
       "version_minor": 0
      },
      "text/plain": [
       "Figure(layout=FigureLayout(height='420px'))"
      ]
     },
     "metadata": {},
     "output_type": "display_data"
    }
   ],
   "source": [
    "# Add marker layer ontop of heat map\n",
    "gmaps.figure(zoom_level=1.75, center=(20,10))\n",
    "markers = gmaps.marker_layer(locations, info_box_content=hotel_info)\n",
    "fig.add_layer(markers)\n",
    "\n",
    "# Display figure\n",
    "\n",
    "fig"
   ]
  },
  {
   "cell_type": "code",
   "execution_count": null,
   "metadata": {},
   "outputs": [],
   "source": []
  }
 ],
 "metadata": {
  "kernelspec": {
   "display_name": "Python 3",
   "language": "python",
   "name": "python3"
  },
  "language_info": {
   "codemirror_mode": {
    "name": "ipython",
    "version": 3
   },
   "file_extension": ".py",
   "mimetype": "text/x-python",
   "name": "python",
   "nbconvert_exporter": "python",
   "pygments_lexer": "ipython3",
   "version": "3.6.10"
  },
  "latex_envs": {
   "LaTeX_envs_menu_present": true,
   "autoclose": false,
   "autocomplete": true,
   "bibliofile": "biblio.bib",
   "cite_by": "apalike",
   "current_citInitial": 1,
   "eqLabelWithNumbers": true,
   "eqNumInitial": 1,
   "hotkeys": {
    "equation": "Ctrl-E",
    "itemize": "Ctrl-I"
   },
   "labels_anchors": false,
   "latex_user_defs": false,
   "report_style_numbering": false,
   "user_envs_cfg": false
  }
 },
 "nbformat": 4,
 "nbformat_minor": 4
}
